{
  "nbformat": 4,
  "nbformat_minor": 0,
  "metadata": {
    "colab": {
      "provenance": []
    },
    "kernelspec": {
      "name": "python3",
      "display_name": "Python 3"
    },
    "language_info": {
      "name": "python"
    }
  },
  "cells": [
    {
      "cell_type": "code",
      "source": [
        "!pip install openrouteservice"
      ],
      "metadata": {
        "colab": {
          "base_uri": "https://localhost:8080/"
        },
        "id": "iubVDAMNo-CO",
        "outputId": "edcb8142-4b90-4c92-a7d2-2dea181d7fe6"
      },
      "execution_count": 7,
      "outputs": [
        {
          "output_type": "stream",
          "name": "stdout",
          "text": [
            "Collecting openrouteservice\n",
            "  Downloading openrouteservice-2.3.3-py3-none-any.whl.metadata (9.2 kB)\n",
            "Requirement already satisfied: requests>=2.0 in /usr/local/lib/python3.11/dist-packages (from openrouteservice) (2.32.3)\n",
            "Requirement already satisfied: charset-normalizer<4,>=2 in /usr/local/lib/python3.11/dist-packages (from requests>=2.0->openrouteservice) (3.4.1)\n",
            "Requirement already satisfied: idna<4,>=2.5 in /usr/local/lib/python3.11/dist-packages (from requests>=2.0->openrouteservice) (3.10)\n",
            "Requirement already satisfied: urllib3<3,>=1.21.1 in /usr/local/lib/python3.11/dist-packages (from requests>=2.0->openrouteservice) (2.4.0)\n",
            "Requirement already satisfied: certifi>=2017.4.17 in /usr/local/lib/python3.11/dist-packages (from requests>=2.0->openrouteservice) (2025.1.31)\n",
            "Downloading openrouteservice-2.3.3-py3-none-any.whl (33 kB)\n",
            "Installing collected packages: openrouteservice\n",
            "Successfully installed openrouteservice-2.3.3\n"
          ]
        }
      ]
    },
    {
      "cell_type": "code",
      "execution_count": 9,
      "metadata": {
        "colab": {
          "base_uri": "https://localhost:8080/"
        },
        "id": "KsaSKtoKhSVx",
        "outputId": "ed106df4-cf57-41b4-cd49-413aa3391fe8"
      },
      "outputs": [
        {
          "output_type": "stream",
          "name": "stdout",
          "text": [
            "Distance: 367.34 km\n",
            "Duration: 4.52 hours\n"
          ]
        }
      ],
      "source": [
        "import openrouteservice\n",
        "\n",
        "# Replace with your personal API key from https://openrouteservice.org/\n",
        "api_key = '5b3ce3597851110001cf62488fd19c007a6d43328ed312f925fcee26'\n",
        "\n",
        "# Initialize client\n",
        "client = openrouteservice.Client(key=api_key)\n",
        "\n",
        "# Define the coordinates (longitude, latitude) -> NOT latitude, longitude!\n",
        "# Example: New York City and Washington, DC\n",
        "start = (-74.0060, 40.7128)  # New York City\n",
        "end = (-77.0369, 38.9072)    # Washington, DC\n",
        "\n",
        "# Request directions\n",
        "route = client.directions(\n",
        "    coordinates=[start, end],\n",
        "    profile='driving-car',  # or 'cycling-regular' for bike, 'foot-walking' for walking\n",
        "    format='geojson'\n",
        ")\n",
        "\n",
        "# Extract distance (in meters) and duration (in seconds)\n",
        "distance_m = route['features'][0]['properties']['summary']['distance']\n",
        "duration_s = route['features'][0]['properties']['summary']['duration']\n",
        "\n",
        "print(f\"Distance: {distance_m/1000:.2f} km\")\n",
        "print(f\"Duration: {duration_s/3600:.2f} hours\")"
      ]
    },
    {
      "cell_type": "code",
      "source": [],
      "metadata": {
        "id": "BGWObuOjo7m7"
      },
      "execution_count": null,
      "outputs": []
    }
  ]
}